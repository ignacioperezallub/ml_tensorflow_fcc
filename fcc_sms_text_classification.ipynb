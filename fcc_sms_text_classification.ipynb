{
  "cells": [
    {
      "cell_type": "markdown",
      "metadata": {
        "id": "view-in-github",
        "colab_type": "text"
      },
      "source": [
        "<a href=\"https://colab.research.google.com/github/ignacioperezallub/ml_tensorflow_fcc/blob/main/fcc_sms_text_classification.ipynb\" target=\"_parent\"><img src=\"https://colab.research.google.com/assets/colab-badge.svg\" alt=\"Open In Colab\"/></a>"
      ]
    },
    {
      "cell_type": "code",
      "execution_count": null,
      "metadata": {
        "id": "8RZOuS9LWQvv",
        "colab": {
          "base_uri": "https://localhost:8080/"
        },
        "outputId": "4f943ca1-a23c-4ffc-e8eb-12949ae91347"
      },
      "outputs": [
        {
          "output_type": "stream",
          "name": "stdout",
          "text": [
            "2.11.0\n"
          ]
        }
      ],
      "source": [
        "# import libraries\n",
        "try:\n",
        "   #%tensorflow_version only exists in Colab.\n",
        "   #!pip install tf-nightly\n",
        "  pass\n",
        "except Exception:\n",
        "  pass\n",
        "import tensorflow as tf\n",
        "import pandas as pd\n",
        "from tensorflow import keras\n",
        "#!pip install tensorflow-datasets\n",
        "#import tensorflow_datasets as tfds\n",
        "import numpy as np\n",
        "import matplotlib.pyplot as plt\n",
        "from tensorflow.keras.layers.experimental.preprocessing import TextVectorization\n",
        "from tensorflow.keras import layers\n",
        "from tensorflow.keras.preprocessing import sequence\n",
        "\n",
        "print(tf.__version__)"
      ]
    },
    {
      "cell_type": "code",
      "execution_count": null,
      "metadata": {
        "id": "lMHwYXHXCar3"
      },
      "outputs": [],
      "source": [
        "# get data files\n",
        "!wget https://cdn.freecodecamp.org/project-data/sms/train-data.tsv\n",
        "!wget https://cdn.freecodecamp.org/project-data/sms/valid-data.tsv\n",
        "\n",
        "train_file_path = \"train-data.tsv\"\n",
        "test_file_path = \"valid-data.tsv\"\n",
        "\n",
        "train_df = pd.read_csv(test_file_path, sep=\"\\t\", header=None, names=[\"type\", \"msg\"])\n",
        "test_df = pd.read_csv(test_file_path, sep=\"\\t\", header=None, names=[\"type\", \"msg\"])\n",
        "\n",
        "train_df[\"type\"] = pd.factorize(train_df[\"type\"])[0]\n",
        "test_df[\"type\"] = pd.factorize(test_df[\"type\"])[0]\n",
        "\n",
        "train_labels =  train_df[\"type\"].values\n",
        "train_ds = tf.data.Dataset.from_tensor_slices((train_df[\"msg\"].values, train_labels))\n",
        "\n",
        "test_labels =  test_df[\"type\"].values\n",
        "test_ds = tf.data.Dataset.from_tensor_slices((test_df[\"msg\"].values, test_labels))\n"
      ]
    },
    {
      "cell_type": "code",
      "source": [
        "BUFFER_SIZE = 100\n",
        "BATCH_SIZE = 32\n",
        "train_ds = train_ds.shuffle(BUFFER_SIZE).batch(BATCH_SIZE).prefetch(tf.data.AUTOTUNE)\n",
        "test_ds = test_ds.batch(BATCH_SIZE).prefetch(tf.data.AUTOTUNE)\n",
        "\n",
        "vector_text = TextVectorization(\n",
        "    output_mode='int',\n",
        "    max_tokens=1000,\n",
        "    output_sequence_length=1000,\n",
        ")\n",
        "\n",
        "vector_text.adapt(train_ds.map(lambda text, label: text))\n",
        "vocab = np.array(vector_text.get_vocabulary())"
      ],
      "metadata": {
        "id": "hzI1n4GVYMzk"
      },
      "execution_count": null,
      "outputs": []
    },
    {
      "cell_type": "code",
      "source": [
        "model = tf.keras.Sequential([\n",
        "    vector_text,\n",
        "    tf.keras.layers.Embedding(\n",
        "        len(vector_text.get_vocabulary()),\n",
        "        64,\n",
        "        mask_zero=True,\n",
        "    ),\n",
        "    tf.keras.layers.Bidirectional(tf.keras.layers.LSTM(64,  return_sequences=True)),\n",
        "    tf.keras.layers.Bidirectional(tf.keras.layers.LSTM(32)),\n",
        "    tf.keras.layers.Dense(64, activation='relu'),\n",
        "    tf.keras.layers.Dropout(0.3),\n",
        "    tf.keras.layers.Dense(1)\n",
        "])\n",
        "\n",
        "\n",
        "model.compile(\n",
        "    loss=tf.keras.losses.BinaryCrossentropy(from_logits=True),\n",
        "    optimizer=tf.keras.optimizers.Adam(1e-4),\n",
        "    metrics=['accuracy'],\n",
        ")"
      ],
      "metadata": {
        "id": "MkcQXBrpYab9"
      },
      "execution_count": null,
      "outputs": []
    },
    {
      "cell_type": "code",
      "source": [
        "history = model.fit(\n",
        "    train_ds,\n",
        "    validation_data=test_ds,\n",
        "    validation_steps=30,\n",
        "    epochs=12,\n",
        ")"
      ],
      "metadata": {
        "id": "JP-GCdRQYcnd",
        "colab": {
          "base_uri": "https://localhost:8080/"
        },
        "outputId": "c2fdcd2f-73d5-484b-c7bf-713b8570196d"
      },
      "execution_count": null,
      "outputs": [
        {
          "output_type": "stream",
          "name": "stdout",
          "text": [
            "Epoch 1/12\n",
            "44/44 [==============================] - 192s 4s/step - loss: 0.0284 - accuracy: 0.9935 - val_loss: 0.0320 - val_accuracy: 0.9937\n",
            "Epoch 2/12\n",
            "44/44 [==============================] - 192s 4s/step - loss: 0.0272 - accuracy: 0.9928 - val_loss: 0.0262 - val_accuracy: 0.9958\n",
            "Epoch 3/12\n",
            "44/44 [==============================] - 192s 4s/step - loss: 0.0242 - accuracy: 0.9957 - val_loss: 0.0247 - val_accuracy: 0.9958\n",
            "Epoch 4/12\n",
            "44/44 [==============================] - 192s 4s/step - loss: 0.0231 - accuracy: 0.9950 - val_loss: 0.0220 - val_accuracy: 0.9958\n",
            "Epoch 5/12\n",
            "44/44 [==============================] - 194s 4s/step - loss: 0.0197 - accuracy: 0.9950 - val_loss: 0.0226 - val_accuracy: 0.9958\n",
            "Epoch 6/12\n",
            "44/44 [==============================] - 176s 4s/step - loss: 0.0198 - accuracy: 0.9957 - val_loss: 0.0189 - val_accuracy: 0.9969\n",
            "Epoch 7/12\n",
            "44/44 [==============================] - 195s 4s/step - loss: 0.0150 - accuracy: 0.9978 - val_loss: 0.0178 - val_accuracy: 0.9969\n",
            "Epoch 8/12\n",
            "44/44 [==============================] - 178s 4s/step - loss: 0.0155 - accuracy: 0.9978 - val_loss: 0.0165 - val_accuracy: 0.9969\n",
            "Epoch 9/12\n",
            "44/44 [==============================] - 195s 4s/step - loss: 0.0153 - accuracy: 0.9978 - val_loss: 0.0151 - val_accuracy: 0.9969\n",
            "Epoch 10/12\n",
            "44/44 [==============================] - 204s 5s/step - loss: 0.0127 - accuracy: 0.9978 - val_loss: 0.0140 - val_accuracy: 0.9969\n",
            "Epoch 11/12\n",
            "44/44 [==============================] - 198s 5s/step - loss: 0.0124 - accuracy: 0.9978 - val_loss: 0.0125 - val_accuracy: 0.9969\n",
            "Epoch 12/12\n",
            "44/44 [==============================] - 198s 5s/step - loss: 0.0103 - accuracy: 0.9978 - val_loss: 0.0127 - val_accuracy: 0.9969\n"
          ]
        }
      ]
    },
    {
      "cell_type": "code",
      "source": [
        "test_loss, test_acc = model.evaluate(test_ds)\n",
        "\n",
        "print('Test Loss:', test_loss)\n",
        "print('Test Accuracy:', test_acc)"
      ],
      "metadata": {
        "id": "Anf7i6DIYfTM",
        "colab": {
          "base_uri": "https://localhost:8080/"
        },
        "outputId": "e3aef000-f0ea-46f0-c1ed-5a0c19487c69"
      },
      "execution_count": null,
      "outputs": [
        {
          "output_type": "stream",
          "name": "stdout",
          "text": [
            "44/44 [==============================] - 36s 825ms/step - loss: 0.0102 - accuracy: 0.9978\n",
            "Test Loss: 0.010211157612502575\n",
            "Test Accuracy: 0.9978448152542114\n"
          ]
        }
      ]
    },
    {
      "cell_type": "code",
      "execution_count": null,
      "metadata": {
        "id": "J9tD9yACG6M9",
        "colab": {
          "base_uri": "https://localhost:8080/"
        },
        "outputId": "2ead9db3-4ce8-4267-97db-823c861bb9ee"
      },
      "outputs": [
        {
          "output_type": "stream",
          "name": "stdout",
          "text": [
            "1/1 [==============================] - 1s 554ms/step\n",
            "[[-7.5385137]]\n",
            "[-7.5385137, 'ham']\n"
          ]
        }
      ],
      "source": [
        "# function to predict messages based on model\n",
        "# (should return list containing prediction and label, ex. [0.008318834938108921, 'ham'])\n",
        "def predict_message(pred_text):\n",
        "  prediction = model.predict([pred_text])\n",
        "  print(prediction)\n",
        "  p = prediction[0][0]\n",
        "  return [p, \"ham\" if p <0.5 else \"spam\"]\n",
        "\n",
        "pred_text = \"how are you doing today?\"\n",
        "\n",
        "prediction = predict_message(pred_text)\n",
        "print(prediction)"
      ]
    },
    {
      "cell_type": "code",
      "execution_count": null,
      "metadata": {
        "id": "Dxotov85SjsC",
        "colab": {
          "base_uri": "https://localhost:8080/"
        },
        "outputId": "0ab104af-50d9-40ba-a172-3414ee80a59d"
      },
      "outputs": [
        {
          "output_type": "stream",
          "name": "stdout",
          "text": [
            "1/1 [==============================] - 1s 1s/step\n",
            "[[-7.5385137]]\n",
            "[-7.5385137, 'ham']\n",
            "1/1 [==============================] - 1s 1s/step\n",
            "[[1.3212322]]\n",
            "[1.3212322, 'spam']\n",
            "1/1 [==============================] - 1s 916ms/step\n",
            "[[-12.617896]]\n",
            "[-12.617896, 'ham']\n",
            "1/1 [==============================] - 1s 727ms/step\n",
            "[[0.4734715]]\n",
            "[0.4734715, 'ham']\n",
            "1/1 [==============================] - 1s 704ms/step\n",
            "[[4.741449]]\n",
            "[4.741449, 'spam']\n",
            "1/1 [==============================] - 1s 746ms/step\n",
            "[[-12.431992]]\n",
            "[-12.431992, 'ham']\n",
            "1/1 [==============================] - 1s 979ms/step\n",
            "[[-11.868933]]\n",
            "[-11.868933, 'ham']\n",
            "You haven't passed yet. Keep trying.\n"
          ]
        }
      ],
      "source": [
        "# Run this cell to test your function and model. Do not modify contents.\n",
        "def test_predictions():\n",
        "  test_messages = [\"how are you doing today\",\n",
        "                   \"sale today! to stop texts call 98912460324\",\n",
        "                   \"i dont want to go. can we try it a different day? available sat\",\n",
        "                   \"our new mobile video service is live. just install on your phone to start watching.\",\n",
        "                   \"you have won £1000 cash! call to claim your prize.\",\n",
        "                   \"i'll bring it tomorrow. don't forget the milk.\",\n",
        "                   \"wow, is your arm alright. that happened to me one time too\"\n",
        "                  ]\n",
        "\n",
        "  test_answers = [\"ham\", \"spam\", \"ham\", \"spam\", \"spam\", \"ham\", \"ham\"]\n",
        "  passed = True\n",
        "\n",
        "  for msg, ans in zip(test_messages, test_answers):\n",
        "    prediction = predict_message(msg)\n",
        "    print(prediction)\n",
        "    if prediction[1] != ans:\n",
        "      passed = False\n",
        "\n",
        "  if passed:\n",
        "    print(\"You passed the challenge. Great job!\")\n",
        "  else:\n",
        "    print(\"You haven't passed yet. Keep trying.\")\n",
        "\n",
        "test_predictions()\n"
      ]
    }
  ],
  "metadata": {
    "colab": {
      "provenance": [],
      "include_colab_link": true
    },
    "kernelspec": {
      "display_name": "Python 3",
      "name": "python3"
    },
    "language_info": {},
    "accelerator": "GPU",
    "gpuClass": "standard"
  },
  "nbformat": 4,
  "nbformat_minor": 0
}