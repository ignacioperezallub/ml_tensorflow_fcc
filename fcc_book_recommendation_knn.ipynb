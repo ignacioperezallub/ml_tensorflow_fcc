{
  "cells": [
    {
      "cell_type": "markdown",
      "metadata": {
        "id": "view-in-github",
        "colab_type": "text"
      },
      "source": [
        "<a href=\"https://colab.research.google.com/github/ignacioperezallub/ml_tensorflow_fcc/blob/main/fcc_book_recommendation_knn.ipynb\" target=\"_parent\"><img src=\"https://colab.research.google.com/assets/colab-badge.svg\" alt=\"Open In Colab\"/></a>"
      ]
    },
    {
      "cell_type": "code",
      "execution_count": null,
      "metadata": {
        "id": "Y1onB6kUvo4Z"
      },
      "outputs": [],
      "source": [
        "# import libraries (you may add additional imports but you may not have to)\n",
        "import numpy as np\n",
        "import pandas as pd\n",
        "from scipy.sparse import csr_matrix\n",
        "from sklearn.neighbors import NearestNeighbors\n",
        "import matplotlib.pyplot as plt"
      ]
    },
    {
      "cell_type": "code",
      "execution_count": null,
      "metadata": {
        "id": "iAQGqqO_vo4d"
      },
      "outputs": [],
      "source": [
        "# get data files\n",
        "!wget https://cdn.freecodecamp.org/project-data/books/book-crossings.zip\n",
        "\n",
        "!unzip book-crossings.zip\n",
        "\n",
        "books_filename = 'BX-Books.csv'\n",
        "ratings_filename = 'BX-Book-Ratings.csv'"
      ]
    },
    {
      "cell_type": "code",
      "execution_count": null,
      "metadata": {
        "id": "NClILWOiEd6Q"
      },
      "outputs": [],
      "source": [
        "# import csv data into dataframes\n",
        "df_books = pd.read_csv(\n",
        "    books_filename,\n",
        "    encoding = \"ISO-8859-1\",\n",
        "    sep=\";\",\n",
        "    header=0,\n",
        "    names=['isbn', 'title', 'author'],\n",
        "    usecols=['isbn', 'title', 'author'],\n",
        "    dtype={'isbn': 'str', 'title': 'str', 'author': 'str'})\n",
        "\n",
        "df_ratings = pd.read_csv(\n",
        "    ratings_filename,\n",
        "    encoding = \"ISO-8859-1\",\n",
        "    sep=\";\",\n",
        "    header=0,\n",
        "    names=['user', 'isbn', 'rating'],\n",
        "    usecols=['user', 'isbn', 'rating'],\n",
        "    dtype={'user': 'int32', 'isbn': 'str', 'rating': 'float32'})"
      ]
    },
    {
      "cell_type": "markdown",
      "source": [
        "We first remove books that have less than 100 reviews, we have to do it before remove the users who submit less than 200 review."
      ],
      "metadata": {
        "id": "-KrOyEUxljsv"
      }
    },
    {
      "cell_type": "code",
      "source": [
        "# groups by the \"isbn\" column and counts the number of rows for each \n",
        "# unique value of \"isbn\", the de dateFrame has the number of rated books by \"isbn\"\n",
        "df_rating_isbn = df_ratings.groupby([\"isbn\"]).count().reset_index()\n",
        "\n",
        "class_books = df_rating_isbn.loc[df_rating_isbn[\"rating\"] >= 100][\"isbn\"]\n",
        "\n",
        "# books contains those have no less than 100 ratings\n",
        "class_books = df_books.loc[df_books[\"isbn\"].isin(class_books)]\n",
        "\n"
      ],
      "metadata": {
        "id": "Tq6bdhUjlqlF"
      },
      "execution_count": null,
      "outputs": []
    },
    {
      "cell_type": "markdown",
      "source": [
        "Now we made the same but for users that has at least 200 reviews"
      ],
      "metadata": {
        "id": "TOHCnxAn7MWH"
      }
    },
    {
      "cell_type": "code",
      "source": [
        "df_rating_user = df_ratings[[\"user\", \"rating\"]].groupby([\"user\"]).count().reset_index()\n",
        "\n",
        "class_users = df_rating_user.loc[df_rating_user[\"rating\"] >= 200][\"user\"]\n",
        "\n",
        "df = df_ratings.loc[df_ratings[\"user\"].isin(class_users)]\n",
        "df = df.loc[df[\"isbn\"].isin(class_books[\"isbn\"])]\n",
        "\n",
        "# Pivot the df to make, isbn > rows, users > columns , and ratings > values \n",
        "df_book_features = df.pivot(\n",
        "    index='isbn',\n",
        "    columns='user',\n",
        "    values='rating'\n",
        ").fillna(0)\n",
        "\n",
        "# Convert dataframe of book features to scipy sparse matrix\n",
        "sp_book_features = csr_matrix(df_book_features.values)\n"
      ],
      "metadata": {
        "id": "3QseXTgg7I7K"
      },
      "execution_count": null,
      "outputs": []
    },
    {
      "cell_type": "code",
      "source": [
        "model = NearestNeighbors(metric='cosine')\n",
        "model.fit(sp_book_features)"
      ],
      "metadata": {
        "colab": {
          "base_uri": "https://localhost:8080/"
        },
        "id": "2ed5RW-qApPc",
        "outputId": "8e80a20d-2535-4b5c-8547-10a4a970f1cc"
      },
      "execution_count": null,
      "outputs": [
        {
          "output_type": "execute_result",
          "data": {
            "text/plain": [
              "NearestNeighbors(metric='cosine')"
            ]
          },
          "metadata": {},
          "execution_count": 40
        }
      ]
    },
    {
      "cell_type": "code",
      "execution_count": null,
      "metadata": {
        "id": "f5ZUd-L1SQz7"
      },
      "outputs": [],
      "source": [
        "# function to return recommended books - this will be tested\n",
        "def get_recommends(title = \"\"):\n",
        "  try:\n",
        "        book = class_books.loc[class_books[\"title\"] == title]\n",
        "  except KeyError as e:\n",
        "        print('Book', e, 'does not exist')\n",
        "        return\n",
        "  b = df_book_features.loc[df_book_features.index.isin(book[\"isbn\"])]\n",
        "  dist, index = model.kneighbors([x for x in b.values], n_neighbors=6)\n",
        "  dist =  dist[0][1:]\n",
        "  index = index[0][1:]\n",
        "\n",
        "  titles = [ df_books.loc[df_books['isbn'] == df_book_features.iloc[i].name][\"title\"].values[0] for i in index]\n",
        "\n",
        "  recommended = [list(z) for z in zip(titles, dist)][::-1]\n",
        "  return [title, recommended]\n",
        "\n",
        "get_recommends(\"The Queen of the Damned (Vampire Chronicles (Paperback))\")"
      ]
    },
    {
      "cell_type": "code",
      "execution_count": null,
      "metadata": {
        "id": "jd2SLCh8oxMh",
        "colab": {
          "base_uri": "https://localhost:8080/"
        },
        "outputId": "3cf353de-a55e-4b06-aa72-a3b6152732b0"
      },
      "outputs": [
        {
          "output_type": "stream",
          "name": "stdout",
          "text": [
            "[\"Where the Heart Is (Oprah's Book Club (Paperback))\", [[\"I'll Be Seeing You\", 0.8016211], ['The Weight of Water', 0.77085835], ['The Surgeon', 0.7699411], ['I Know This Much Is True', 0.7677075], ['The Lovely Bones: A Novel', 0.7234864]]]\n",
            "You passed the challenge! 🎉🎉🎉🎉🎉\n"
          ]
        }
      ],
      "source": [
        "books = get_recommends(\"Where the Heart Is (Oprah's Book Club (Paperback))\")\n",
        "print(books)\n",
        "\n",
        "def test_book_recommendation():\n",
        "  test_pass = True\n",
        "  recommends = get_recommends(\"Where the Heart Is (Oprah's Book Club (Paperback))\")\n",
        "  if recommends[0] != \"Where the Heart Is (Oprah's Book Club (Paperback))\":\n",
        "    test_pass = False\n",
        "  recommended_books = [\"I'll Be Seeing You\", 'The Weight of Water', 'The Surgeon', 'I Know This Much Is True']\n",
        "  recommended_books_dist = [0.8, 0.77, 0.77, 0.77]\n",
        "  for i in range(2): \n",
        "    if recommends[1][i][0] not in recommended_books:\n",
        "      test_pass = False\n",
        "    if abs(recommends[1][i][1] - recommended_books_dist[i]) >= 0.05:\n",
        "      test_pass = False\n",
        "  if test_pass:\n",
        "    print(\"You passed the challenge! 🎉🎉🎉🎉🎉\")\n",
        "  else:\n",
        "    print(\"You haven't passed yet. Keep trying!\")\n",
        "\n",
        "test_book_recommendation()"
      ]
    }
  ],
  "metadata": {
    "colab": {
      "provenance": [],
      "include_colab_link": true
    },
    "kernelspec": {
      "display_name": "Python 3",
      "language": "python",
      "name": "python3"
    },
    "language_info": {
      "codemirror_mode": {
        "name": "ipython",
        "version": 3
      },
      "file_extension": ".py",
      "mimetype": "text/x-python",
      "name": "python",
      "nbconvert_exporter": "python",
      "pygments_lexer": "ipython3",
      "version": "3.6.5"
    }
  },
  "nbformat": 4,
  "nbformat_minor": 0
}